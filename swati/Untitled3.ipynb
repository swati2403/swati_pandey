{
 "cells": [
  {
   "cell_type": "code",
   "execution_count": 3,
   "metadata": {},
   "outputs": [
    {
     "ename": "AttributeError",
     "evalue": "'dict' object has no attribute 'replace'",
     "output_type": "error",
     "traceback": [
      "\u001b[0;31m---------------------------------------------------------------------------\u001b[0m",
      "\u001b[0;31mAttributeError\u001b[0m                            Traceback (most recent call last)",
      "\u001b[0;32m<ipython-input-3-20dd4a35f288>\u001b[0m in \u001b[0;36m<module>\u001b[0;34m\u001b[0m\n\u001b[1;32m     35\u001b[0m \u001b[0mjsonObj\u001b[0m \u001b[0;34m=\u001b[0m \u001b[0mMessageToJson\u001b[0m\u001b[0;34m(\u001b[0m\u001b[0mentities\u001b[0m\u001b[0;34m)\u001b[0m\u001b[0;34m\u001b[0m\u001b[0m\n\u001b[1;32m     36\u001b[0m \u001b[0ma\u001b[0m\u001b[0;34m=\u001b[0m\u001b[0mjson\u001b[0m\u001b[0;34m.\u001b[0m\u001b[0mloads\u001b[0m\u001b[0;34m(\u001b[0m\u001b[0mjsonObj\u001b[0m\u001b[0;34m)\u001b[0m\u001b[0;34m\u001b[0m\u001b[0m\n\u001b[0;32m---> 37\u001b[0;31m \u001b[0ma\u001b[0m\u001b[0;34m=\u001b[0m\u001b[0ma\u001b[0m\u001b[0;34m.\u001b[0m\u001b[0mreplace\u001b[0m\u001b[0;34m(\u001b[0m\u001b[0;34m\"'\"\u001b[0m\u001b[0;34m,\u001b[0m \u001b[0;34m'\"'\u001b[0m\u001b[0;34m)\u001b[0m\u001b[0;34m\u001b[0m\u001b[0m\n\u001b[0m\u001b[1;32m     38\u001b[0m \u001b[0mprint\u001b[0m\u001b[0;34m(\u001b[0m\u001b[0ma\u001b[0m\u001b[0;34m)\u001b[0m\u001b[0;34m\u001b[0m\u001b[0m\n\u001b[1;32m     39\u001b[0m \u001b[0;31m#normalized_df= pd.io.json.json_normalize(a)\u001b[0m\u001b[0;34m\u001b[0m\u001b[0;34m\u001b[0m\u001b[0m\n",
      "\u001b[0;31mAttributeError\u001b[0m: 'dict' object has no attribute 'replace'"
     ]
    }
   ],
   "source": [
    "import six\n",
    "import pandas as pd\n",
    "from google.cloud import language\n",
    "from google.cloud.language import enums\n",
    "from google.cloud.language import types\n",
    "from pandas.io.json import json_normalize\n",
    "import json\n",
    "from google.protobuf.json_format import MessageToDict\n",
    "from google.protobuf.json_format import MessageToJson\n",
    "from google.protobuf import descriptor \n",
    "\n",
    "#from pandas.io.json import json_normalize\n",
    "\n",
    "text = 'President Kennedy spoke at the White House.'\n",
    "\n",
    "client = language.LanguageServiceClient()\n",
    "\n",
    "if isinstance(text, six.binary_type):\n",
    "    text = text.decode('utf-8')\n",
    "\n",
    "# Instantiates a plain text document.\n",
    "document = types.Document(\n",
    "    content=text,\n",
    "    type=enums.Document.Type.PLAIN_TEXT)\n",
    "\n",
    "# Detects entities in the document. You can also analyze HTML with:\n",
    "# #   document.type == enums.Document.Type.HTML\n",
    "entities = client.analyze_entities(document)\n",
    "\n",
    "#print(entities)\n",
    "#app= json.dumps(entities)\n",
    "#print(app)\n",
    "a=[]\n",
    "#dict_obj = MessageToDict(entities)\n",
    "jsonObj = MessageToJson(entities)\n",
    "a=json.loads(jsonObj)\n",
    "a=a.replace(\"'\", '\"')\n",
    "print(a)\n",
    "#normalized_df= pd.io.json.json_normalize(a)\n",
    "#normalized_df =normalized_df.replace(\"[\", \"\")\n",
    "#normalized_df =normalized_df.replace(\"]\", \"\")\n",
    "#print(normalized_df)\n",
    "#normalized_df.to_csv('my_csv_file.csv',index=False)\n",
    "\n",
    "\n",
    "#response = MessageToDict(entities, preserving_proto_field_name = True)\n",
    "#desired_res = response[\"label_annotation\"]\n",
    "# df =json_normalize(entities.value)\n",
    "#result = json_normalize(entities,'name',['name','type','metadata',['mid'],['wikipedia_url']])\n",
    "#print(df)\n"
   ]
  },
  {
   "cell_type": "code",
   "execution_count": null,
   "metadata": {},
   "outputs": [],
   "source": []
  }
 ],
 "metadata": {
  "kernelspec": {
   "display_name": "Python 3",
   "language": "python",
   "name": "python3"
  },
  "language_info": {
   "codemirror_mode": {
    "name": "ipython",
    "version": 3
   },
   "file_extension": ".py",
   "mimetype": "text/x-python",
   "name": "python",
   "nbconvert_exporter": "python",
   "pygments_lexer": "ipython3",
   "version": "3.6.3"
  }
 },
 "nbformat": 4,
 "nbformat_minor": 2
}
