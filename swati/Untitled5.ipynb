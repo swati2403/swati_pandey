{
 "cells": [
  {
   "cell_type": "code",
   "execution_count": 36,
   "metadata": {},
   "outputs": [
    {
     "ename": "NameError",
     "evalue": "name 'writer' is not defined",
     "output_type": "error",
     "traceback": [
      "\u001b[0;31m---------------------------------------------------------------------------\u001b[0m",
      "\u001b[0;31mNameError\u001b[0m                                 Traceback (most recent call last)",
      "\u001b[0;32m<ipython-input-36-7bbf56d72a3f>\u001b[0m in \u001b[0;36m<module>\u001b[0;34m\u001b[0m\n\u001b[1;32m     47\u001b[0m \u001b[0;34m\u001b[0m\u001b[0m\n\u001b[1;32m     48\u001b[0m \u001b[0mproduct\u001b[0m\u001b[0;34m.\u001b[0m\u001b[0mto_excel\u001b[0m\u001b[0;34m(\u001b[0m\u001b[0;34m'output.xlsx'\u001b[0m\u001b[0;34m,\u001b[0m \u001b[0mengine\u001b[0m\u001b[0;34m=\u001b[0m\u001b[0;34m'xlsxwriter'\u001b[0m\u001b[0;34m)\u001b[0m\u001b[0;34m\u001b[0m\u001b[0m\n\u001b[0;32m---> 49\u001b[0;31m \u001b[0mproduct\u001b[0m\u001b[0;34m.\u001b[0m\u001b[0mto_excel\u001b[0m\u001b[0;34m(\u001b[0m\u001b[0mwriter\u001b[0m\u001b[0;34m,\u001b[0m \u001b[0mindex\u001b[0m\u001b[0;34m=\u001b[0m\u001b[0;32mFalse\u001b[0m\u001b[0;34m,\u001b[0m \u001b[0msheet_name\u001b[0m\u001b[0;34m=\u001b[0m\u001b[0;34m'Type'\u001b[0m\u001b[0;34m)\u001b[0m\u001b[0;34m\u001b[0m\u001b[0m\n\u001b[0m\u001b[1;32m     50\u001b[0m \u001b[0mworkbook\u001b[0m \u001b[0;34m=\u001b[0m \u001b[0mwriter\u001b[0m\u001b[0;34m.\u001b[0m\u001b[0mbook\u001b[0m\u001b[0;34m\u001b[0m\u001b[0m\n\u001b[1;32m     51\u001b[0m \u001b[0mworksheet\u001b[0m \u001b[0;34m=\u001b[0m \u001b[0mwriter\u001b[0m\u001b[0;34m.\u001b[0m\u001b[0msheets\u001b[0m\u001b[0;34m[\u001b[0m\u001b[0;34m'Type'\u001b[0m\u001b[0;34m]\u001b[0m\u001b[0;34m\u001b[0m\u001b[0m\n",
      "\u001b[0;31mNameError\u001b[0m: name 'writer' is not defined"
     ]
    }
   ],
   "source": [
    "# import pandas as pd\n",
    "# df = pd.read_csv('latest_curated.csv',low_memory=False,encoding='latin-1')\n",
    "# # #df\n",
    "# # #source_name=list(df[51])\n",
    "# # dict1= df['Item']\n",
    "# # #print(only_head)\n",
    "# # excel_file=\"CIO - Product Type v2.xlsx\"\n",
    "# # dict= pd.read_excel(excel_file, sheetname=1)\n",
    "# # #data.header_list\n",
    "# # #print(index)\n",
    "# # #print(data)\n",
    "# array = ['latest_curated.csv']\n",
    "# excel_file=\"CIO - Product Type v2.xlsx\"\n",
    "# dict= pd.read_excel(excel_file, sheetname=1)\n",
    "# for key, value in dict.iteritems():\n",
    "#     print(value)\n",
    "import pandas as pd\n",
    "import csv\n",
    "\n",
    "product_type = []\n",
    "def items():\n",
    "    mydataset=pd.read_csv('latest_curated.csv',low_memory=False,encoding='latin-1')\n",
    "    sorted_by_item=product.sort_values(['Item'],ascending=False)\n",
    "    sorted_by_item[\"Item\"].head(29082)\n",
    "    \n",
    "excel_file=\"CIO - Product Type v2.xlsx\"\n",
    "product=pd.read_excel(excel_file)\n",
    "product.head()\n",
    "product_type=pd.read_excel(excel_file, sheetname=0, index_col=0)\n",
    "product_type.head()\n",
    "product = pd.concat([product_Type])\n",
    "product.shape\n",
    "xlsx = pd.Excelfile(excel_file)\n",
    "\n",
    "\n",
    "\n",
    "for Type in xlsx.type_names:\n",
    "    product_Type.append(xlsx.parse(Type))\n",
    "product = pd.concat(product_Type)\n",
    "product_skip_rows.columns = [\"value\", \"product_Type\"]\n",
    "product_skip_rows.head()\n",
    "header_fmt workbook.add_format({'bold': True})\n",
    "worksheet.set_row(0, None, header_fmt)\n",
    "writer.save()\n",
    "\n",
    "\n",
    "\n",
    "product.to_excel('output.xlsx', engine='xlsxwriter')\n",
    "product.to_excel(writer, index=False, sheet_name='Type')\n",
    "workbook = writer.book\n",
    "worksheet = writer.sheets['Type']\n",
    "\n",
    "\n",
    "\n",
    "if__name__ == \"__main__\":\n",
    "    Items()\n",
    "\n",
    "\n",
    "        "
   ]
  },
  {
   "cell_type": "code",
   "execution_count": null,
   "metadata": {},
   "outputs": [],
   "source": []
  },
  {
   "cell_type": "code",
   "execution_count": null,
   "metadata": {},
   "outputs": [],
   "source": []
  }
 ],
 "metadata": {
  "kernelspec": {
   "display_name": "Python 3",
   "language": "python",
   "name": "python3"
  },
  "language_info": {
   "codemirror_mode": {
    "name": "ipython",
    "version": 3
   },
   "file_extension": ".py",
   "mimetype": "text/x-python",
   "name": "python",
   "nbconvert_exporter": "python",
   "pygments_lexer": "ipython3",
   "version": "3.6.3"
  }
 },
 "nbformat": 4,
 "nbformat_minor": 2
}
