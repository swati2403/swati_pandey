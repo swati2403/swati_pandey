{
 "cells": [
  {
   "cell_type": "code",
   "execution_count": null,
   "metadata": {},
   "outputs": [],
   "source": [
    "import pandas as pd\n",
    "df = pd.read_csv('latest_curated.csv',low_memory=False,encoding='latin-1')\n",
    "only_head = df['Item']\n",
    "company_value=[]\n",
    "classi_type=[]\n",
    "\n",
    "#print(only_head)\n",
    "excel_file=\"CIO - Product Type v2.xlsx\"\n",
    "data= dict(pd.read_excel(excel_file, sheet_name=1))\n",
    "#print(type(data))\n",
    "for item in only_head:\n",
    "\titem_word=item.split()\n",
    "\t#print(item_word)\n",
    "    for key,value in data.items():\n",
    "        value1= value\n",
    "        value1=str(value1)\n",
    "        if value1 in item_word :\n",
    "            print(\"a\")\n",
    "            #company_value.append(value)\n",
    "            #classi_type.append(key)\n",
    "        else:\n",
    "            print(\"b\")\n",
    "            #company_value.append(only_head)\n",
    "            #classi_type.append(\"-\")\n",
    "\n",
    "#print(company_value)\n",
    "\n"
   ]
  },
  {
   "cell_type": "code",
   "execution_count": null,
   "metadata": {},
   "outputs": [],
   "source": []
  },
  {
   "cell_type": "code",
   "execution_count": null,
   "metadata": {},
   "outputs": [],
   "source": []
  }
 ],
 "metadata": {
  "kernelspec": {
   "display_name": "Python 3",
   "language": "python",
   "name": "python3"
  },
  "language_info": {
   "codemirror_mode": {
    "name": "ipython",
    "version": 3
   },
   "file_extension": ".py",
   "mimetype": "text/x-python",
   "name": "python",
   "nbconvert_exporter": "python",
   "pygments_lexer": "ipython3",
   "version": "3.6.3"
  }
 },
 "nbformat": 4,
 "nbformat_minor": 2
}
